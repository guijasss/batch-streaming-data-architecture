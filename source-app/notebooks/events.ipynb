{
 "cells": [
  {
   "cell_type": "code",
   "execution_count": 17,
   "id": "b64c116a-4dd2-42cd-99e4-75603c7b1e15",
   "metadata": {},
   "outputs": [],
   "source": [
    "from random import choices, randint, sample"
   ]
  },
  {
   "cell_type": "code",
   "execution_count": 27,
   "id": "bd435458-87eb-4500-8123-d6f080cbf9d6",
   "metadata": {},
   "outputs": [],
   "source": [
    "events = [\"READ_DESCRIPTION\", \"ADD_TO_CART\", \"FILL_PERSONAL_INFO\", \"FILL_BILLING_INFO\", \"FINISH_FLOW\"]"
   ]
  },
  {
   "cell_type": "code",
   "execution_count": 51,
   "id": "f9516575-a9bc-4cee-b114-39e0ce1ebe8a",
   "metadata": {},
   "outputs": [
    {
     "data": {
      "text/plain": [
       "[1, 2, 4]"
      ]
     },
     "execution_count": 51,
     "metadata": {},
     "output_type": "execute_result"
    }
   ],
   "source": [
    "n_events = randint(0, len(events) -1)\n",
    "sorted(sample([1,2,3,4], k=n_events))"
   ]
  },
  {
   "cell_type": "code",
   "execution_count": 56,
   "id": "31198b0f-a2f2-4825-9960-61a203a36c86",
   "metadata": {},
   "outputs": [
    {
     "name": "stdout",
     "output_type": "stream",
     "text": [
      "['READ_DESCRIPTION', 'ADD_TO_CART', 'FILL_PERSONAL_INFO']\n"
     ]
    }
   ],
   "source": [
    "n_events = randint(0, len(events))\n",
    "print(events[0:n_events])"
   ]
  },
  {
   "cell_type": "code",
   "execution_count": 57,
   "id": "6499ec6f-9795-45ca-a9a3-0b652837dad6",
   "metadata": {},
   "outputs": [
    {
     "data": {
      "text/plain": [
       "[1, 12]"
      ]
     },
     "execution_count": 57,
     "metadata": {},
     "output_type": "execute_result"
    }
   ],
   "source": [
    "[1] + [12]"
   ]
  },
  {
   "cell_type": "code",
   "execution_count": null,
   "id": "cf3d0c90-7b00-49da-bfd1-c23f30a37420",
   "metadata": {},
   "outputs": [],
   "source": []
  }
 ],
 "metadata": {
  "kernelspec": {
   "display_name": "Python 3 (ipykernel)",
   "language": "python",
   "name": "python3"
  },
  "language_info": {
   "codemirror_mode": {
    "name": "ipython",
    "version": 3
   },
   "file_extension": ".py",
   "mimetype": "text/x-python",
   "name": "python",
   "nbconvert_exporter": "python",
   "pygments_lexer": "ipython3",
   "version": "3.10.12"
  }
 },
 "nbformat": 4,
 "nbformat_minor": 5
}
